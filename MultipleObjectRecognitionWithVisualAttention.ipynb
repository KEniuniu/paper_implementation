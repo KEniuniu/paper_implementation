{
 "cells": [
  {
   "cell_type": "code",
   "execution_count": 1,
   "metadata": {
    "collapsed": false
   },
   "outputs": [],
   "source": [
    "from __future__ import absolute_import\n",
    "from __future__ import division\n",
    "from __future__ import print_function\n",
    "\n",
    "import argparse\n",
    "import sys\n",
    "\n",
    "import svhn_dataset \n",
    "import tensorflow as tf\n",
    "import numpy as np"
   ]
  },
  {
   "cell_type": "code",
   "execution_count": 2,
   "metadata": {
    "collapsed": false
   },
   "outputs": [],
   "source": [
    "batch_size = 128\n",
    "img_sz = 32\n",
    "img_len = img_sz*img_sz\n",
    "n_itr = 10000\n",
    "n_class = 10\n",
    "lstm_size = 256\n",
    "hidden_size = 1024\n",
    "T = 10\n",
    "eps = 1e-7\n",
    "lr = 1e-3\n",
    "patch_size = 8\n",
    "std = 0.03"
   ]
  },
  {
   "cell_type": "code",
   "execution_count": 3,
   "metadata": {
    "collapsed": false
   },
   "outputs": [],
   "source": [
    "svhn = svhn_dataset.read_data_sets('svhn_data')"
   ]
  },
  {
   "cell_type": "code",
   "execution_count": null,
   "metadata": {
    "collapsed": false
   },
   "outputs": [],
   "source": [
    "x = tf.placeholder(tf.float32, [None, img_len])\n",
    "y = tf.placeholder(tf.float32, [None, n_class])"
   ]
  },
  {
   "cell_type": "code",
   "execution_count": null,
   "metadata": {
    "collapsed": true
   },
   "outputs": [],
   "source": [
    "def conv2d(x, W, b, strides=1):\n",
    "    out = tf.nn.conv2d(x, W, strides=[1, strides, strides, 1], padding='SAME')\n",
    "    out = tf.nn.bias_add(out, b)\n",
    "    return tf.nn.relu(out)"
   ]
  },
  {
   "cell_type": "code",
   "execution_count": null,
   "metadata": {
    "collapsed": true
   },
   "outputs": [],
   "source": [
    "def glimpse_network(x, w, b, loc):\n",
    "    x_g = tf.image.extract_glimpse(x, tf.shape(patch_size, patch_size), loc)\n",
    "    x_g = tf.reshape(x_g, shape=[-1, patch_size, patch_size, 1])\n",
    "\n",
    "    conv1 = conv2d(x_g, w['wg1'], b['bg1'])\n",
    "    conv2 = conv2d(conv1, w['wg2'], b['bg2'])\n",
    "    conv3 = conv2d(conv2, w['wg3'], b['bg3'])\n",
    "   \n",
    "    fc1 = tf.reshape(conv3, [-1, w['wg'].get_shape().as_list()[0]])\n",
    "    fc1 = tf.add(tf.matmul(fc1, w['wg']), b['bg'])\n",
    "    Gimage = tf.nn.relu(fc1)\n",
    "    \n",
    "    Gloc = tf.add(tf.matmul(loc, w['wgl']), b['bgl'])\n",
    "    gn = tf.multiply(Gimage, Gloc)\n",
    "    return gn\n",
    "    \n",
    "def context_network(x, w, b):\n",
    "    x_g = tf.image.resize_images(x, patch_size, patch_size)\n",
    "    x_g = tf.reshape(x_g, shape=[-1, patch_size, patch_size, 1])\n",
    "\n",
    "    conv1 = conv2d(x_g, w['wc1'], b['bc1'])\n",
    "    conv2 = conv2d(conv1, w['wc2'], b['bc2'])\n",
    "    conv3 = conv2d(conv2, w['wc3'], b['bc3'])\n",
    "   \n",
    "    fc1 = tf.reshape(conv3, [-1, w['wc'].get_shape().as_list()[0]])\n",
    "    fc1 = tf.add(tf.matmul(fc1, w['wc']), b['bc'])\n",
    "    return tf.nn.relu(fc1)"
   ]
  },
  {
   "cell_type": "code",
   "execution_count": null,
   "metadata": {
    "collapsed": true
   },
   "outputs": [],
   "source": [
    "W = {\n",
    "    'wc1': tf.Variable(tf.random_normal([5, 5, 1, 64])),\n",
    "    'wc2': tf.Variable(tf.random_normal([3, 3, 64, 64])),\n",
    "    'wc3': tf.Variable(tf.random_normal([3, 3, 64, 128])),\n",
    "    'wc': tf.Variable(tf.random_normal([3*3*128, lstm_size])),\n",
    "    \n",
    "    'wg1': tf.Variable(tf.random_normal([5, 5, 1, 64])),\n",
    "    'wg2': tf.Variable(tf.random_normal([3, 3, 64, 64])),\n",
    "    'wg3': tf.Variable(tf.random_normal([3, 3, 64, 128])),\n",
    "    'wg': tf.Variable(tf.random_normal([3*3*128, hidden_size])),\n",
    "    'wgl': tf.Variable(tf.random_normal([2, hidden_size])),\n",
    "    \n",
    "    'wl': tf.Variable(tf.random_normal([lstm_size, 2])),\n",
    "    'wo': tf.Variable(tf.random_normal([lstm_size, 10])),\n",
    "}\n",
    "\n",
    "b = {\n",
    "    'bc1': tf.Variable(tf.zeros([64])),\n",
    "    'bc2': tf.Variable(tf.zeros([64])),\n",
    "    'bc3': tf.Variable(tf.zeros([128])),\n",
    "    'bc': tf.Variable(tf.zeros([lstm_size])),\n",
    "    \n",
    "    'bg1': tf.Variable(tf.zeros([64])),\n",
    "    'bg2': tf.Variable(tf.zeros([64])),\n",
    "    'bg3': tf.Variable(tf.zeros([128])),\n",
    "    'bg': tf.Variable(tf.zeros([hidden_size])),\n",
    "    'bgl': tf.Variable(tf.zeros([hidden_size])),\n",
    "    \n",
    "    'bl': tf.Variable(tf.zeros([2])),\n",
    "    'bo': tf.Variable(tf.zeros([10])),\n",
    "}\n"
   ]
  },
  {
   "cell_type": "code",
   "execution_count": null,
   "metadata": {
    "collapsed": true
   },
   "outputs": [],
   "source": [
    "y = [0]*T\n",
    "loc = [0]*(T+1)\n",
    "\n",
    "rnn1 = tf.nn.rnn_cell.LSTMCell(lstm_size)\n",
    "rnn2 = tf.nn.rnn_cell.LSTMCell(lstm_size)\n",
    "\n",
    "h1 = tf.zeros([None, lstm_size])\n",
    "state2 = context_network(x, w, b)\n",
    "\n",
    "with tf.variable_scope(\"rnn2\", reuse=False):\n",
    "    h2, state2 = rnn2(h1, state2)\n",
    "    loc[0] = tf.add(tf.matmul(h2, w['wl']), b['bl'])\n",
    "\n",
    "state1 = rnn_enc.zero_state(None, tf.float32)  \n",
    "for t in range(T):      \n",
    "    gn = glimpse_network(x, w, b, loc[t])\n",
    "    with tf.variable_scope(\"rnn1\", reuse=(t != 0)):\n",
    "        h1, state1 = rnn1(gn, state1)\n",
    "        y[t] = tf.add(tf.matmul(h1, w['wo']), b['bo']) \n",
    "    with tf.variable_scope(\"rnn2\", reuse=True):\n",
    "        h2, state2 = rnn2(h1, state2)\n",
    "        loc[t+1] = tf.add(tf.matmul(h2, w['wl']), b['bl'])\n",
    "        "
   ]
  }
 ],
 "metadata": {
  "anaconda-cloud": {},
  "kernelspec": {
   "display_name": "Python [conda root]",
   "language": "python",
   "name": "conda-root-py"
  },
  "language_info": {
   "codemirror_mode": {
    "name": "ipython",
    "version": 2
   },
   "file_extension": ".py",
   "mimetype": "text/x-python",
   "name": "python",
   "nbconvert_exporter": "python",
   "pygments_lexer": "ipython2",
   "version": "2.7.9"
  }
 },
 "nbformat": 4,
 "nbformat_minor": 1
}
